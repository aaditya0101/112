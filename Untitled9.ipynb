{
 "cells": [
  {
   "cell_type": "markdown",
   "id": "8bd15a69",
   "metadata": {},
   "source": [
    "# tuple"
   ]
  },
  {
   "cell_type": "code",
   "execution_count": 9,
   "id": "1750a567",
   "metadata": {},
   "outputs": [
    {
     "name": "stdout",
     "output_type": "stream",
     "text": [
      "('python', 'tuple', 'ordered')\n",
      "2\n",
      "1\n",
      "('python', 'tuple', 'ordered', 'collection', 3, 4, 5)\n",
      "python\n",
      "tuple\n",
      "ordered\n",
      "collection\n"
     ]
    }
   ],
   "source": [
    "t1=('python','tuple','ordered','collection')#immutable\n",
    "print(t1[0:3])\n",
    "print(t1.index('ordered'))\n",
    "print(t1.count('ordered'))\n",
    "print(t1+(3,4,5))\n",
    "for item in t1:\n",
    "    print(item)"
   ]
  },
  {
   "cell_type": "code",
   "execution_count": 46,
   "id": "ff180ffe",
   "metadata": {},
   "outputs": [
    {
     "name": "stdout",
     "output_type": "stream",
     "text": [
      "(('pranav', 'ffff', '200 rupees'), ('aaditya', 'gggg', 'no'), ('yash', 'hhh', 'sasti hai bohot'))\n"
     ]
    }
   ],
   "source": [
    "t1=('pranav','aaditya','yash')\n",
    "t2=('ffff','gggg','hhh')\n",
    "t3=('200 rupees','no','sasti hai bohot')\n",
    "zipped=zip(t1,t2,t3)\n",
    "t4=tuple(zipped)\n",
    "print(t4)"
   ]
  },
  {
   "cell_type": "markdown",
   "id": "91121571",
   "metadata": {},
   "source": [
    "# SETS"
   ]
  },
  {
   "cell_type": "code",
   "execution_count": 20,
   "id": "7b3b30c4",
   "metadata": {},
   "outputs": [
    {
     "name": "stdout",
     "output_type": "stream",
     "text": [
      "{'tuesday', 'thursday', 'monday', 'wednesday'}\n",
      "{'monday', 'wednesday', 'tuesday', 'thursday', 'friday'}\n",
      "{'monday', 'wednesday', 'tuesday', 'sunday', 'thursday', 'friday', 'saturday'}\n",
      "{'wednesday', 'tuesday', 'sunday', 'thursday', 'friday', 'saturday'}\n",
      "{'tuesday', 'sunday', 'thursday', 'friday', 'saturday'}\n"
     ]
    }
   ],
   "source": [
    "days = set([\"monday\",\"tuesday\",\"wednesday\",\"thursday\"]) \n",
    "print(days)\n",
    "days.add(\"friday\")\n",
    "print(days)\n",
    "days.update([\"saturday\",\"sunday\"])\n",
    "print(days)\n",
    "days.remove((\"monday\"))\n",
    "print(days)\n",
    "days.pop()\n",
    "print(days)"
   ]
  },
  {
   "cell_type": "code",
   "execution_count": 25,
   "id": "422d7c5c",
   "metadata": {},
   "outputs": [
    {
     "name": "stdout",
     "output_type": "stream",
     "text": [
      "{'monday', 'wednesday', 'tuesday', 'sunday', 'thursday', 'saturday'}\n",
      "{'tuesday', 'thursday', 'monday', 'wednesday'}\n",
      "{'sunday', 'saturday'}\n",
      "{'sunday', 'saturday'}\n"
     ]
    }
   ],
   "source": [
    "days=set([\"monday\",\"tuesday\",\"wednesday\",\"thursday\"])\n",
    "days1=set([\"monday\",\"tuesday\",\"wednesday\",\"thursday\",\"saturday\",\"sunday\"])\n",
    "print(days|days1)\n",
    "print(days&days1)\n",
    "print(days1-days)\n",
    "print(days^days1)"
   ]
  },
  {
   "cell_type": "markdown",
   "id": "0631b553",
   "metadata": {},
   "source": [
    "# dictionary"
   ]
  },
  {
   "cell_type": "code",
   "execution_count": 44,
   "id": "ffc43f06",
   "metadata": {
    "scrolled": true
   },
   "outputs": [
    {
     "name": "stdout",
     "output_type": "stream",
     "text": [
      "{'name': 'john', 'age': '49', 'salary': '1lakh', 'company': 'google'}\n",
      "{'age': '49', 'salary': '1lakh', 'company': 'google'}\n",
      "49\n",
      "1lakh\n",
      "google\n",
      "('age', '49')\n",
      "('salary', '1lakh')\n",
      "('company', 'google')\n",
      "3\n"
     ]
    },
    {
     "data": {
      "text/plain": [
       "\"{'age': '49', 'salary': '1lakh', 'company': 'google'}\""
      ]
     },
     "execution_count": 44,
     "metadata": {},
     "output_type": "execute_result"
    }
   ],
   "source": [
    "dict={\"name\":\"john\",\"age\":\"49\",\"salary\":\"1lakh\",\"company\":\"google\"}\n",
    "print(dict)\n",
    "var1=dict.pop(\"name\")\n",
    "print(dict)\n",
    "for i in dict.values():\n",
    "    print(i)\n",
    "for i in dict.items():\n",
    "    print(i)\n",
    "r1=len(dict)\n",
    "print(r1)\n",
    "str(dict)"
   ]
  },
  {
   "cell_type": "code",
   "execution_count": 37,
   "id": "a66a5eed",
   "metadata": {},
   "outputs": [
    {
     "name": "stdout",
     "output_type": "stream",
     "text": [
      "age\n",
      "salary\n",
      "company\n",
      "49\n",
      "1lakh\n",
      "google\n"
     ]
    }
   ],
   "source": [
    "for i in dict:\n",
    "    print(i)\n",
    "for i in dict:\n",
    "    print(dict[i])"
   ]
  },
  {
   "cell_type": "markdown",
   "id": "7764fca2",
   "metadata": {},
   "source": [
    "# skyvalues"
   ]
  },
  {
   "cell_type": "code",
   "execution_count": 45,
   "id": "811972b4",
   "metadata": {},
   "outputs": [],
   "source": [
    "#a=97\n",
    "#A=65"
   ]
  },
  {
   "cell_type": "markdown",
   "id": "76c67826",
   "metadata": {},
   "source": [
    "# array and lists"
   ]
  },
  {
   "cell_type": "code",
   "execution_count": 8,
   "id": "f93ced45",
   "metadata": {},
   "outputs": [
    {
     "ename": "AttributeError",
     "evalue": "'set' object has no attribute 'insert'",
     "output_type": "error",
     "traceback": [
      "\u001b[1;31m---------------------------------------------------------------------------\u001b[0m",
      "\u001b[1;31mAttributeError\u001b[0m                            Traceback (most recent call last)",
      "Input \u001b[1;32mIn [8]\u001b[0m, in \u001b[0;36m<cell line: 2>\u001b[1;34m()\u001b[0m\n\u001b[0;32m      1\u001b[0m \u001b[38;5;28mlist\u001b[39m\u001b[38;5;241m=\u001b[39m{\u001b[38;5;124m\"\u001b[39m\u001b[38;5;124me\u001b[39m\u001b[38;5;124m\"\u001b[39m,\u001b[38;5;124m\"\u001b[39m\u001b[38;5;124ms\u001b[39m\u001b[38;5;124m\"\u001b[39m,\u001b[38;5;124m\"\u001b[39m\u001b[38;5;124mdd\u001b[39m\u001b[38;5;124m\"\u001b[39m,\u001b[38;5;124m\"\u001b[39m\u001b[38;5;124mff\u001b[39m\u001b[38;5;124m\"\u001b[39m}\n\u001b[1;32m----> 2\u001b[0m \u001b[38;5;28;43mlist\u001b[39;49m\u001b[38;5;241;43m.\u001b[39;49m\u001b[43minsert\u001b[49m(\u001b[38;5;241m1\u001b[39m,\u001b[38;5;124m\"\u001b[39m\u001b[38;5;124mpg\u001b[39m\u001b[38;5;124m\"\u001b[39m)\n\u001b[0;32m      3\u001b[0m \u001b[38;5;28mprint\u001b[39m(\u001b[38;5;28mlist\u001b[39m)\n",
      "\u001b[1;31mAttributeError\u001b[0m: 'set' object has no attribute 'insert'"
     ]
    }
   ],
   "source": [
    "list={\"e\",\"s\",\"dd\",\"ff\"}\n",
    "list.insert(1,\"pg\")\n",
    "print(list)"
   ]
  },
  {
   "cell_type": "code",
   "execution_count": null,
   "id": "999bb4aa",
   "metadata": {},
   "outputs": [],
   "source": []
  }
 ],
 "metadata": {
  "kernelspec": {
   "display_name": "Python 3 (ipykernel)",
   "language": "python",
   "name": "python3"
  },
  "language_info": {
   "codemirror_mode": {
    "name": "ipython",
    "version": 3
   },
   "file_extension": ".py",
   "mimetype": "text/x-python",
   "name": "python",
   "nbconvert_exporter": "python",
   "pygments_lexer": "ipython3",
   "version": "3.9.12"
  }
 },
 "nbformat": 4,
 "nbformat_minor": 5
}
